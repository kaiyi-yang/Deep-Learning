{
 "cells": [
  {
   "cell_type": "markdown",
   "metadata": {},
   "source": [
    "# Import Packages"
   ]
  },
  {
   "cell_type": "code",
   "execution_count": 23,
   "metadata": {},
   "outputs": [],
   "source": [
    "# Numerical Operations\n",
    "import numpy as np\n",
    "import math\n",
    "from matplotlib import pyplot as plt\n",
    "\n",
    "# Reading/Writing Data\n",
    "import pandas as pd\n",
    "import os\n",
    "import csv\n",
    "\n",
    "# For Progress Bar\n",
    "from tqdm import tqdm\n",
    "\n",
    "# Pytorch\n",
    "import torch \n",
    "import torch.nn as nn\n",
    "from torch.utils.data import Dataset, DataLoader\n",
    "from torchvision import datasets\n",
    "import torchvision.transforms as transforms\n",
    "\n",
    "# For plotting learning curve\n",
    "from torch.utils.tensorboard import SummaryWriter"
   ]
  },
  {
   "cell_type": "markdown",
   "metadata": {},
   "source": [
    "# Useful Functions"
   ]
  },
  {
   "cell_type": "code",
   "execution_count": 24,
   "metadata": {},
   "outputs": [],
   "source": [
    "def same_seed(seed): \n",
    "    torch.backends.cudnn.deterministic = True\n",
    "    torch.backends.cudnn.benchmark = False\n",
    "    np.random.seed(seed)\n",
    "    torch.manual_seed(seed)\n",
    "    if torch.cuda.is_available():\n",
    "        torch.cuda.manual_seed_all(seed)\n",
    "\n",
    "\n",
    "def predict(test_loader, model, device):\n",
    "    model.eval()\n",
    "    preds_list = list()\n",
    "    labels_list = list()\n",
    "    for imgs, labels in tqdm(test_loader):\n",
    "        imgs = imgs.to(device)\n",
    "        labels_list += labels.squeeze().tolist()                       \n",
    "        with torch.no_grad():  \n",
    "            pred = model(imgs) \n",
    "            pred_label = np.argmax(pred.cpu().data.numpy(), axis=1)\n",
    "            preds_list += pred_label.squeeze().tolist()          \n",
    "    return preds_list, labels_list\n",
    "\n",
    "\n",
    "def save_pred(preds, file):\n",
    "    with open(file, 'w') as fp:\n",
    "        writer = csv.writer(fp)\n",
    "        writer.writerow(['id', 'pred'])\n",
    "        for i, p in enumerate(preds):\n",
    "            writer.writerow([i, p])\n",
    "\n",
    "\n",
    "def cal_l2(model):\n",
    "    l2_weight = 0.1\n",
    "    l2_parameters = list()\n",
    "    for parameter in model.parameters():\n",
    "        l2_parameters.append(parameter.view(-1))\n",
    "        l2 = l2_weight * model.compute_l2_loss(torch.cat(l2_parameters))\n",
    "    return l2"
   ]
  },
  {
   "cell_type": "markdown",
   "metadata": {},
   "source": [
    "# Datasets"
   ]
  },
  {
   "cell_type": "code",
   "execution_count": 25,
   "metadata": {},
   "outputs": [],
   "source": [
    "MNIST_train = datasets.MNIST('./training', train=True, download=False, transform=transforms.ToTensor())\n",
    "MNIST_test = datasets.MNIST('./testing', train=False, download=False, transform=transforms.ToTensor())\n",
    "train_set, valid_set = torch.utils.data.random_split(MNIST_train, [55000, 5000])\n",
    "test_set = MNIST_test"
   ]
  },
  {
   "cell_type": "markdown",
   "metadata": {},
   "source": [
    "# Configurations"
   ]
  },
  {
   "cell_type": "code",
   "execution_count": 26,
   "metadata": {},
   "outputs": [],
   "source": [
    "device = 'cuda' if torch.cuda.is_available() else 'cpu'\n",
    "\n",
    "config = {\n",
    "    'seed':6666,\n",
    "    'n_epochs': 100,     # Number of epochs.            \n",
    "    'batch_size': 64, \n",
    "    'learning_rate': 1e-4,              \n",
    "    'early_stop': 400,    # If model has not improved for this many consecutive epochs, stop training.     \n",
    "    'save_path': './models/model.ckpt'  # Your model will be saved here.\n",
    "}"
   ]
  },
  {
   "cell_type": "markdown",
   "metadata": {},
   "source": [
    "# DataLoder"
   ]
  },
  {
   "cell_type": "code",
   "execution_count": 27,
   "metadata": {},
   "outputs": [],
   "source": [
    "train_loader = DataLoader(train_set, batch_size=config['batch_size'], shuffle=True, num_workers=0, pin_memory=True)\n",
    "valid_loader = DataLoader(valid_set, batch_size=config['batch_size'], shuffle=True, num_workers=0, pin_memory=True)\n",
    "test_loader = DataLoader(test_set, batch_size=config['batch_size'], shuffle=False, num_workers=0, pin_memory=True)"
   ]
  },
  {
   "cell_type": "markdown",
   "metadata": {},
   "source": [
    "# Module"
   ]
  },
  {
   "cell_type": "code",
   "execution_count": 29,
   "metadata": {},
   "outputs": [],
   "source": [
    "class Classifier(nn.Module):\n",
    "    def __init__(self):\n",
    "        super(Classifier, self).__init__()\n",
    "        # input dim [1, 28, 28]\n",
    "        self.cnn_layers = nn.Sequential(\n",
    "            nn.Conv2d(1, 64, 3, 1, 1),  # [64, 28, 28]\n",
    "            nn.BatchNorm2d(64),\n",
    "            nn.ReLU(),\n",
    "            nn.MaxPool2d(2, 2, 0),      # [64, 14, 14]\n",
    "\n",
    "            nn.Conv2d(64, 128, 3, 1, 1), # [128, 14, 14]\n",
    "            nn.BatchNorm2d(128),\n",
    "            nn.ReLU(),\n",
    "            nn.MaxPool2d(2, 2, 0),      # [128, 7, 7]\n",
    "\n",
    "            nn.Conv2d(128, 512, 3, 1, 1), # [512, 7, 7]\n",
    "            nn.BatchNorm2d(512),\n",
    "            nn.ReLU(),\n",
    "            nn.MaxPool2d(2, 2, 0),      # [512, 3, 3]\n",
    "\n",
    "        )\n",
    "        self.fc_layers = nn.Sequential(\n",
    "            nn.Linear(512*3*3, 256),\n",
    "            nn.ReLU(),\n",
    "            nn.Linear(256, 128),\n",
    "            nn.ReLU(),\n",
    "            nn.Linear(128, 10) # 0~9\n",
    "        )\n",
    "\n",
    "\n",
    "    def forward(self, x):\n",
    "        out = self.cnn_layers(x)\n",
    "        out = out.view(out.size()[0], -1)\n",
    "        return self.fc_layers(out)\n",
    "\n",
    "\n",
    "    def compute_l2_loss(self, w):\n",
    "        return torch.square(w).sum()"
   ]
  },
  {
   "cell_type": "markdown",
   "metadata": {},
   "source": [
    "# Training Loop"
   ]
  },
  {
   "cell_type": "code",
   "execution_count": 1,
   "metadata": {},
   "outputs": [],
   "source": [
    "def trainer(train_loader, valid_loader, test_loader, model, config, device):\n",
    "\n",
    "    criterion = nn.CrossEntropyLoss() \n",
    "    \n",
    "    optimizer = torch.optim.Adam(model.parameters(), lr=config['learning_rate'])\n",
    "\n",
    "\n",
    "    writer = SummaryWriter() # Writer of tensoboard.\n",
    "\n",
    "    if not os.path.isdir('./models'):\n",
    "        os.mkdir('./models') # Create directory of saving models.\n",
    "\n",
    "    n_epochs, best_loss, step, early_stop_count = config['n_epochs'], math.inf, 0, 0\n",
    "\n",
    "    for epoch in range(n_epochs):\n",
    "        model.train() # Set model to train mode.\n",
    "        train_loss = []\n",
    "        train_accs = []\n",
    "\n",
    "        train_pbar = tqdm(train_loader, position=0, leave=True)\n",
    "\n",
    "        for imgs, labels in train_pbar:\n",
    "            \n",
    "            imgs, labels = imgs.to(device), labels.to(device)   # Move your data to device. \n",
    "            pred = model(imgs)  \n",
    "\n",
    "            loss = criterion(pred, labels)\n",
    "            l2 = cal_l2(model)\n",
    "            loss += l2\n",
    "\n",
    "            acc = (pred.argmax(dim=-1) == labels.to(device)).float().mean()\n",
    "            optimizer.zero_grad()               # Set gradient to zero.\n",
    "            loss.backward()                     # Compute gradient(backpropagation).\n",
    "            optimizer.step()                    # Update parameters.\n",
    "            \n",
    "            train_loss.append(loss.detach().item())\n",
    "            train_accs.append(acc)\n",
    "            \n",
    "            step += 1\n",
    "            # Display current epoch number and loss on tqdm progress bar.\n",
    "            train_pbar.set_description(f'Epoch [{epoch+1}/{n_epochs}]')\n",
    "            train_pbar.set_postfix({'loss': loss.detach().item()})\n",
    "\n",
    "        mean_train_loss = sum(train_loss) / len(train_loss)\n",
    "        mean_train_acc = sum(train_accs) / len(train_accs)\n",
    "\n",
    "\n",
    "        model.eval() # Set your model to evaluation mode.\n",
    "        valid_loss = []\n",
    "        valid_accs = []\n",
    "        test_loss = []\n",
    "        test_accs = []\n",
    "\n",
    "        for imgs, labels in valid_loader:\n",
    "            imgs, labels = imgs.to(device), labels.to(device)\n",
    "            with torch.no_grad():\n",
    "                pred = model(imgs)\n",
    "                loss = criterion(pred, labels)\n",
    "                l2 = cal_l2(model)\n",
    "                loss += l2\n",
    "                acc = (pred.argmax(dim=-1) == labels.to(device)).float().mean()\n",
    "\n",
    "            valid_loss.append(loss.item())\n",
    "            valid_accs.append(acc)\n",
    "            \n",
    "        mean_valid_loss = sum(valid_loss) / len(valid_loss)\n",
    "        mean_valid_acc = sum(valid_accs) / len(valid_accs)\n",
    "        \n",
    "        print(f'Epoch [{epoch+1}/{n_epochs}]: Train loss: {mean_train_loss:.4f}, Valid loss: {mean_valid_loss:.4f}')\n",
    "\n",
    "\n",
    "        for imgs, labels in test_loader:\n",
    "            imgs, labels = imgs.to(device), labels.to(device)\n",
    "            with torch.no_grad():\n",
    "                pred = model(imgs)\n",
    "                loss = criterion(pred, labels)\n",
    "                l2 = cal_l2(model)\n",
    "                loss += l2\n",
    "                acc = (pred.argmax(dim=-1) == labels.to(device)).float().mean()\n",
    "\n",
    "            test_loss.append(loss.item())\n",
    "            test_accs.append(acc)\n",
    "\n",
    "        mean_test_loss = sum(test_loss) / len(test_loss)\n",
    "        mean_test_acc = sum(test_accs) / len(test_accs)\n",
    "\n",
    "\n",
    "        writer.add_scalars('Loss', {'train':mean_train_loss, 'valid':mean_valid_loss, 'test':mean_test_loss}, step)\n",
    "        writer.add_scalars('Accuracy', {'train':mean_train_acc, 'valid':mean_valid_acc, 'test':mean_test_acc}, step)\n",
    "\n",
    "\n",
    "        for name, parms in model.named_parameters():\n",
    "            writer.add_histogram(name, parms, step)\n",
    "\n",
    "\n",
    "        if mean_valid_loss < best_loss:\n",
    "            best_loss = mean_valid_loss\n",
    "            torch.save(model.state_dict(), config['save_path']) # Save your best model\n",
    "            print('Saving model with loss {:.3f}...'.format(best_loss))\n",
    "            early_stop_count = 0\n",
    "        else: \n",
    "            early_stop_count += 1\n",
    "\n",
    "\n",
    "        if early_stop_count >= config['early_stop']:\n",
    "            print('\\nModel is not improving, so we halt the training session.')\n",
    "            return\n",
    "        \n"
   ]
  },
  {
   "cell_type": "markdown",
   "metadata": {},
   "source": [
    "# Start training"
   ]
  },
  {
   "cell_type": "code",
   "execution_count": 31,
   "metadata": {},
   "outputs": [
    {
     "name": "stderr",
     "output_type": "stream",
     "text": [
      "Epoch [1/100]: 100%|██████████| 860/860 [00:08<00:00, 104.67it/s, loss=60.9]\n"
     ]
    },
    {
     "name": "stdout",
     "output_type": "stream",
     "text": [
      "Epoch [1/100]: Train loss: 71.4542, Valid loss: 60.9858\n",
      "Saving model with loss 60.986...\n"
     ]
    },
    {
     "name": "stderr",
     "output_type": "stream",
     "text": [
      "Epoch [2/100]: 100%|██████████| 860/860 [00:07<00:00, 108.91it/s, loss=50.2]\n"
     ]
    },
    {
     "name": "stdout",
     "output_type": "stream",
     "text": [
      "Epoch [2/100]: Train loss: 55.3764, Valid loss: 50.1745\n",
      "Saving model with loss 50.174...\n"
     ]
    },
    {
     "name": "stderr",
     "output_type": "stream",
     "text": [
      "Epoch [3/100]: 100%|██████████| 860/860 [00:07<00:00, 115.96it/s, loss=41]  \n"
     ]
    },
    {
     "name": "stdout",
     "output_type": "stream",
     "text": [
      "Epoch [3/100]: Train loss: 45.4702, Valid loss: 41.0225\n",
      "Saving model with loss 41.023...\n"
     ]
    },
    {
     "name": "stderr",
     "output_type": "stream",
     "text": [
      "Epoch [4/100]: 100%|██████████| 860/860 [00:07<00:00, 114.27it/s, loss=33.1]\n"
     ]
    },
    {
     "name": "stdout",
     "output_type": "stream",
     "text": [
      "Epoch [4/100]: Train loss: 36.9786, Valid loss: 33.1247\n",
      "Saving model with loss 33.125...\n"
     ]
    },
    {
     "name": "stderr",
     "output_type": "stream",
     "text": [
      "Epoch [5/100]: 100%|██████████| 860/860 [00:07<00:00, 119.40it/s, loss=26.3]\n"
     ]
    },
    {
     "name": "stdout",
     "output_type": "stream",
     "text": [
      "Epoch [5/100]: Train loss: 29.6287, Valid loss: 26.3043\n",
      "Saving model with loss 26.304...\n"
     ]
    },
    {
     "name": "stderr",
     "output_type": "stream",
     "text": [
      "Epoch [6/100]: 100%|██████████| 860/860 [00:07<00:00, 121.39it/s, loss=20.4]\n"
     ]
    },
    {
     "name": "stdout",
     "output_type": "stream",
     "text": [
      "Epoch [6/100]: Train loss: 23.2827, Valid loss: 20.4514\n",
      "Saving model with loss 20.451...\n"
     ]
    },
    {
     "name": "stderr",
     "output_type": "stream",
     "text": [
      "Epoch [7/100]: 100%|██████████| 860/860 [00:06<00:00, 123.09it/s, loss=15.5]\n"
     ]
    },
    {
     "name": "stdout",
     "output_type": "stream",
     "text": [
      "Epoch [7/100]: Train loss: 17.8655, Valid loss: 15.4622\n",
      "Saving model with loss 15.462...\n"
     ]
    },
    {
     "name": "stderr",
     "output_type": "stream",
     "text": [
      "Epoch [8/100]: 100%|██████████| 860/860 [00:06<00:00, 123.46it/s, loss=11.3]\n"
     ]
    },
    {
     "name": "stdout",
     "output_type": "stream",
     "text": [
      "Epoch [8/100]: Train loss: 13.3341, Valid loss: 11.3927\n",
      "Saving model with loss 11.393...\n"
     ]
    },
    {
     "name": "stderr",
     "output_type": "stream",
     "text": [
      "Epoch [9/100]: 100%|██████████| 860/860 [00:06<00:00, 124.23it/s, loss=8.03]\n"
     ]
    },
    {
     "name": "stdout",
     "output_type": "stream",
     "text": [
      "Epoch [9/100]: Train loss: 9.6534, Valid loss: 8.1374\n",
      "Saving model with loss 8.137...\n"
     ]
    },
    {
     "name": "stderr",
     "output_type": "stream",
     "text": [
      "Epoch [10/100]: 100%|██████████| 860/860 [00:06<00:00, 124.59it/s, loss=5.56]\n"
     ]
    },
    {
     "name": "stdout",
     "output_type": "stream",
     "text": [
      "Epoch [10/100]: Train loss: 6.7949, Valid loss: 5.6713\n",
      "Saving model with loss 5.671...\n"
     ]
    },
    {
     "name": "stderr",
     "output_type": "stream",
     "text": [
      "Epoch [11/100]: 100%|██████████| 860/860 [00:06<00:00, 123.52it/s, loss=3.93]\n"
     ]
    },
    {
     "name": "stdout",
     "output_type": "stream",
     "text": [
      "Epoch [11/100]: Train loss: 4.7192, Valid loss: 3.9914\n",
      "Saving model with loss 3.991...\n"
     ]
    },
    {
     "name": "stderr",
     "output_type": "stream",
     "text": [
      "Epoch [12/100]: 100%|██████████| 860/860 [00:06<00:00, 124.43it/s, loss=2.91]\n"
     ]
    },
    {
     "name": "stdout",
     "output_type": "stream",
     "text": [
      "Epoch [12/100]: Train loss: 3.3796, Valid loss: 2.9512\n",
      "Saving model with loss 2.951...\n"
     ]
    },
    {
     "name": "stderr",
     "output_type": "stream",
     "text": [
      "Epoch [13/100]: 100%|██████████| 860/860 [00:06<00:00, 123.60it/s, loss=2.53]\n"
     ]
    },
    {
     "name": "stdout",
     "output_type": "stream",
     "text": [
      "Epoch [13/100]: Train loss: 2.6927, Valid loss: 2.5405\n",
      "Saving model with loss 2.541...\n"
     ]
    },
    {
     "name": "stderr",
     "output_type": "stream",
     "text": [
      "Epoch [14/100]: 100%|██████████| 860/860 [00:06<00:00, 124.13it/s, loss=2.39]\n"
     ]
    },
    {
     "name": "stdout",
     "output_type": "stream",
     "text": [
      "Epoch [14/100]: Train loss: 2.4305, Valid loss: 2.3864\n",
      "Saving model with loss 2.386...\n"
     ]
    },
    {
     "name": "stderr",
     "output_type": "stream",
     "text": [
      "Epoch [15/100]: 100%|██████████| 860/860 [00:06<00:00, 124.21it/s, loss=2.41]\n"
     ]
    },
    {
     "name": "stdout",
     "output_type": "stream",
     "text": [
      "Epoch [15/100]: Train loss: 2.3680, Valid loss: 2.3643\n",
      "Saving model with loss 2.364...\n"
     ]
    },
    {
     "name": "stderr",
     "output_type": "stream",
     "text": [
      "Epoch [16/100]: 100%|██████████| 860/860 [00:06<00:00, 124.32it/s, loss=2.29]\n"
     ]
    },
    {
     "name": "stdout",
     "output_type": "stream",
     "text": [
      "Epoch [16/100]: Train loss: 2.3502, Valid loss: 2.3413\n",
      "Saving model with loss 2.341...\n"
     ]
    },
    {
     "name": "stderr",
     "output_type": "stream",
     "text": [
      "Epoch [17/100]: 100%|██████████| 860/860 [00:06<00:00, 124.34it/s, loss=2.33]\n"
     ]
    },
    {
     "name": "stdout",
     "output_type": "stream",
     "text": [
      "Epoch [17/100]: Train loss: 2.3323, Valid loss: 2.3349\n",
      "Saving model with loss 2.335...\n"
     ]
    },
    {
     "name": "stderr",
     "output_type": "stream",
     "text": [
      "Epoch [18/100]: 100%|██████████| 860/860 [00:06<00:00, 124.49it/s, loss=2.24]\n"
     ]
    },
    {
     "name": "stdout",
     "output_type": "stream",
     "text": [
      "Epoch [18/100]: Train loss: 2.3105, Valid loss: 2.3196\n",
      "Saving model with loss 2.320...\n"
     ]
    },
    {
     "name": "stderr",
     "output_type": "stream",
     "text": [
      "Epoch [19/100]: 100%|██████████| 860/860 [00:06<00:00, 124.16it/s, loss=2.19]\n"
     ]
    },
    {
     "name": "stdout",
     "output_type": "stream",
     "text": [
      "Epoch [19/100]: Train loss: 2.2905, Valid loss: 2.2923\n",
      "Saving model with loss 2.292...\n"
     ]
    },
    {
     "name": "stderr",
     "output_type": "stream",
     "text": [
      "Epoch [20/100]: 100%|██████████| 860/860 [00:06<00:00, 124.16it/s, loss=2.16]\n"
     ]
    },
    {
     "name": "stdout",
     "output_type": "stream",
     "text": [
      "Epoch [20/100]: Train loss: 2.2753, Valid loss: 2.2637\n",
      "Saving model with loss 2.264...\n"
     ]
    },
    {
     "name": "stderr",
     "output_type": "stream",
     "text": [
      "Epoch [21/100]: 100%|██████████| 860/860 [00:06<00:00, 124.85it/s, loss=2.14]\n"
     ]
    },
    {
     "name": "stdout",
     "output_type": "stream",
     "text": [
      "Epoch [21/100]: Train loss: 2.2556, Valid loss: 2.2507\n",
      "Saving model with loss 2.251...\n"
     ]
    },
    {
     "name": "stderr",
     "output_type": "stream",
     "text": [
      "Epoch [22/100]: 100%|██████████| 860/860 [00:06<00:00, 123.95it/s, loss=2.39]\n"
     ]
    },
    {
     "name": "stdout",
     "output_type": "stream",
     "text": [
      "Epoch [22/100]: Train loss: 2.2351, Valid loss: 2.2368\n",
      "Saving model with loss 2.237...\n"
     ]
    },
    {
     "name": "stderr",
     "output_type": "stream",
     "text": [
      "Epoch [23/100]: 100%|██████████| 860/860 [00:06<00:00, 124.19it/s, loss=2.18]\n"
     ]
    },
    {
     "name": "stdout",
     "output_type": "stream",
     "text": [
      "Epoch [23/100]: Train loss: 2.2200, Valid loss: 2.2053\n",
      "Saving model with loss 2.205...\n"
     ]
    },
    {
     "name": "stderr",
     "output_type": "stream",
     "text": [
      "Epoch [24/100]: 100%|██████████| 860/860 [00:06<00:00, 124.23it/s, loss=2.15]\n"
     ]
    },
    {
     "name": "stdout",
     "output_type": "stream",
     "text": [
      "Epoch [24/100]: Train loss: 2.2092, Valid loss: 2.2290\n"
     ]
    },
    {
     "name": "stderr",
     "output_type": "stream",
     "text": [
      "Epoch [25/100]: 100%|██████████| 860/860 [00:06<00:00, 125.24it/s, loss=2.19]\n"
     ]
    },
    {
     "name": "stdout",
     "output_type": "stream",
     "text": [
      "Epoch [25/100]: Train loss: 2.2066, Valid loss: 2.2194\n"
     ]
    },
    {
     "name": "stderr",
     "output_type": "stream",
     "text": [
      "Epoch [26/100]: 100%|██████████| 860/860 [00:06<00:00, 124.59it/s, loss=2.21]\n"
     ]
    },
    {
     "name": "stdout",
     "output_type": "stream",
     "text": [
      "Epoch [26/100]: Train loss: 2.2042, Valid loss: 2.1942\n",
      "Saving model with loss 2.194...\n"
     ]
    },
    {
     "name": "stderr",
     "output_type": "stream",
     "text": [
      "Epoch [27/100]: 100%|██████████| 860/860 [00:06<00:00, 124.37it/s, loss=2.17]\n"
     ]
    },
    {
     "name": "stdout",
     "output_type": "stream",
     "text": [
      "Epoch [27/100]: Train loss: 2.2021, Valid loss: 2.2116\n"
     ]
    },
    {
     "name": "stderr",
     "output_type": "stream",
     "text": [
      "Epoch [28/100]: 100%|██████████| 860/860 [00:06<00:00, 125.49it/s, loss=2.15]\n"
     ]
    },
    {
     "name": "stdout",
     "output_type": "stream",
     "text": [
      "Epoch [28/100]: Train loss: 2.2004, Valid loss: 2.2431\n"
     ]
    },
    {
     "name": "stderr",
     "output_type": "stream",
     "text": [
      "Epoch [29/100]: 100%|██████████| 860/860 [00:06<00:00, 124.27it/s, loss=2.09]\n"
     ]
    },
    {
     "name": "stdout",
     "output_type": "stream",
     "text": [
      "Epoch [29/100]: Train loss: 2.1969, Valid loss: 2.2083\n"
     ]
    },
    {
     "name": "stderr",
     "output_type": "stream",
     "text": [
      "Epoch [30/100]: 100%|██████████| 860/860 [00:06<00:00, 124.38it/s, loss=2.14]\n"
     ]
    },
    {
     "name": "stdout",
     "output_type": "stream",
     "text": [
      "Epoch [30/100]: Train loss: 2.1911, Valid loss: 2.1945\n"
     ]
    },
    {
     "name": "stderr",
     "output_type": "stream",
     "text": [
      "Epoch [31/100]: 100%|██████████| 860/860 [00:06<00:00, 123.79it/s, loss=2.17]\n"
     ]
    },
    {
     "name": "stdout",
     "output_type": "stream",
     "text": [
      "Epoch [31/100]: Train loss: 2.1856, Valid loss: 2.1989\n"
     ]
    },
    {
     "name": "stderr",
     "output_type": "stream",
     "text": [
      "Epoch [32/100]: 100%|██████████| 860/860 [00:06<00:00, 124.66it/s, loss=2.15]\n"
     ]
    },
    {
     "name": "stdout",
     "output_type": "stream",
     "text": [
      "Epoch [32/100]: Train loss: 2.1803, Valid loss: 2.1908\n",
      "Saving model with loss 2.191...\n"
     ]
    },
    {
     "name": "stderr",
     "output_type": "stream",
     "text": [
      "Epoch [33/100]: 100%|██████████| 860/860 [00:06<00:00, 123.79it/s, loss=2.17]\n"
     ]
    },
    {
     "name": "stdout",
     "output_type": "stream",
     "text": [
      "Epoch [33/100]: Train loss: 2.1766, Valid loss: 2.1663\n",
      "Saving model with loss 2.166...\n"
     ]
    },
    {
     "name": "stderr",
     "output_type": "stream",
     "text": [
      "Epoch [34/100]: 100%|██████████| 860/860 [00:06<00:00, 124.24it/s, loss=2.17]\n"
     ]
    },
    {
     "name": "stdout",
     "output_type": "stream",
     "text": [
      "Epoch [34/100]: Train loss: 2.1713, Valid loss: 2.1776\n"
     ]
    },
    {
     "name": "stderr",
     "output_type": "stream",
     "text": [
      "Epoch [35/100]: 100%|██████████| 860/860 [00:07<00:00, 122.59it/s, loss=2.23]\n"
     ]
    },
    {
     "name": "stdout",
     "output_type": "stream",
     "text": [
      "Epoch [35/100]: Train loss: 2.1673, Valid loss: 2.2014\n"
     ]
    },
    {
     "name": "stderr",
     "output_type": "stream",
     "text": [
      "Epoch [36/100]: 100%|██████████| 860/860 [00:06<00:00, 123.66it/s, loss=2.14]\n"
     ]
    },
    {
     "name": "stdout",
     "output_type": "stream",
     "text": [
      "Epoch [36/100]: Train loss: 2.1620, Valid loss: 2.1551\n",
      "Saving model with loss 2.155...\n"
     ]
    },
    {
     "name": "stderr",
     "output_type": "stream",
     "text": [
      "Epoch [37/100]: 100%|██████████| 860/860 [00:06<00:00, 123.26it/s, loss=2.26]\n"
     ]
    },
    {
     "name": "stdout",
     "output_type": "stream",
     "text": [
      "Epoch [37/100]: Train loss: 2.1586, Valid loss: 2.1537\n",
      "Saving model with loss 2.154...\n"
     ]
    },
    {
     "name": "stderr",
     "output_type": "stream",
     "text": [
      "Epoch [38/100]: 100%|██████████| 860/860 [00:06<00:00, 123.29it/s, loss=2.18]\n"
     ]
    },
    {
     "name": "stdout",
     "output_type": "stream",
     "text": [
      "Epoch [38/100]: Train loss: 2.1553, Valid loss: 2.1627\n"
     ]
    },
    {
     "name": "stderr",
     "output_type": "stream",
     "text": [
      "Epoch [39/100]: 100%|██████████| 860/860 [00:06<00:00, 123.73it/s, loss=2.33]\n"
     ]
    },
    {
     "name": "stdout",
     "output_type": "stream",
     "text": [
      "Epoch [39/100]: Train loss: 2.1508, Valid loss: 2.1663\n"
     ]
    },
    {
     "name": "stderr",
     "output_type": "stream",
     "text": [
      "Epoch [40/100]: 100%|██████████| 860/860 [00:06<00:00, 124.59it/s, loss=2.06]\n"
     ]
    },
    {
     "name": "stdout",
     "output_type": "stream",
     "text": [
      "Epoch [40/100]: Train loss: 2.1482, Valid loss: 2.1356\n",
      "Saving model with loss 2.136...\n"
     ]
    },
    {
     "name": "stderr",
     "output_type": "stream",
     "text": [
      "Epoch [41/100]: 100%|██████████| 860/860 [00:06<00:00, 124.07it/s, loss=2.24]\n"
     ]
    },
    {
     "name": "stdout",
     "output_type": "stream",
     "text": [
      "Epoch [41/100]: Train loss: 2.1451, Valid loss: 2.1538\n"
     ]
    },
    {
     "name": "stderr",
     "output_type": "stream",
     "text": [
      "Epoch [42/100]: 100%|██████████| 860/860 [00:06<00:00, 124.54it/s, loss=2.13]\n"
     ]
    },
    {
     "name": "stdout",
     "output_type": "stream",
     "text": [
      "Epoch [42/100]: Train loss: 2.1424, Valid loss: 2.1380\n"
     ]
    },
    {
     "name": "stderr",
     "output_type": "stream",
     "text": [
      "Epoch [43/100]: 100%|██████████| 860/860 [00:06<00:00, 125.00it/s, loss=2.34]\n"
     ]
    },
    {
     "name": "stdout",
     "output_type": "stream",
     "text": [
      "Epoch [43/100]: Train loss: 2.1394, Valid loss: 2.1525\n"
     ]
    },
    {
     "name": "stderr",
     "output_type": "stream",
     "text": [
      "Epoch [44/100]: 100%|██████████| 860/860 [00:06<00:00, 123.62it/s, loss=2.3] \n"
     ]
    },
    {
     "name": "stdout",
     "output_type": "stream",
     "text": [
      "Epoch [44/100]: Train loss: 2.1363, Valid loss: 2.1389\n"
     ]
    },
    {
     "name": "stderr",
     "output_type": "stream",
     "text": [
      "Epoch [45/100]: 100%|██████████| 860/860 [00:06<00:00, 124.30it/s, loss=2.09]\n"
     ]
    },
    {
     "name": "stdout",
     "output_type": "stream",
     "text": [
      "Epoch [45/100]: Train loss: 2.1327, Valid loss: 2.1272\n",
      "Saving model with loss 2.127...\n"
     ]
    },
    {
     "name": "stderr",
     "output_type": "stream",
     "text": [
      "Epoch [46/100]: 100%|██████████| 860/860 [00:06<00:00, 123.53it/s, loss=2.19]\n"
     ]
    },
    {
     "name": "stdout",
     "output_type": "stream",
     "text": [
      "Epoch [46/100]: Train loss: 2.1295, Valid loss: 2.1268\n",
      "Saving model with loss 2.127...\n"
     ]
    },
    {
     "name": "stderr",
     "output_type": "stream",
     "text": [
      "Epoch [47/100]: 100%|██████████| 860/860 [00:06<00:00, 123.32it/s, loss=2.26]\n"
     ]
    },
    {
     "name": "stdout",
     "output_type": "stream",
     "text": [
      "Epoch [47/100]: Train loss: 2.1279, Valid loss: 2.1236\n",
      "Saving model with loss 2.124...\n"
     ]
    },
    {
     "name": "stderr",
     "output_type": "stream",
     "text": [
      "Epoch [48/100]: 100%|██████████| 860/860 [00:06<00:00, 123.44it/s, loss=2.09]\n"
     ]
    },
    {
     "name": "stdout",
     "output_type": "stream",
     "text": [
      "Epoch [48/100]: Train loss: 2.1253, Valid loss: 2.1303\n"
     ]
    },
    {
     "name": "stderr",
     "output_type": "stream",
     "text": [
      "Epoch [49/100]: 100%|██████████| 860/860 [00:06<00:00, 124.75it/s, loss=2.06]\n"
     ]
    },
    {
     "name": "stdout",
     "output_type": "stream",
     "text": [
      "Epoch [49/100]: Train loss: 2.1220, Valid loss: 2.1355\n"
     ]
    },
    {
     "name": "stderr",
     "output_type": "stream",
     "text": [
      "Epoch [50/100]: 100%|██████████| 860/860 [00:06<00:00, 125.25it/s, loss=2.12]\n"
     ]
    },
    {
     "name": "stdout",
     "output_type": "stream",
     "text": [
      "Epoch [50/100]: Train loss: 2.1201, Valid loss: 2.1125\n",
      "Saving model with loss 2.112...\n"
     ]
    },
    {
     "name": "stderr",
     "output_type": "stream",
     "text": [
      "Epoch [51/100]: 100%|██████████| 860/860 [00:06<00:00, 124.73it/s, loss=2.22]\n"
     ]
    },
    {
     "name": "stdout",
     "output_type": "stream",
     "text": [
      "Epoch [51/100]: Train loss: 2.1174, Valid loss: 2.1329\n"
     ]
    },
    {
     "name": "stderr",
     "output_type": "stream",
     "text": [
      "Epoch [52/100]: 100%|██████████| 860/860 [00:06<00:00, 123.88it/s, loss=2.06]\n"
     ]
    },
    {
     "name": "stdout",
     "output_type": "stream",
     "text": [
      "Epoch [52/100]: Train loss: 2.1167, Valid loss: 2.1264\n"
     ]
    },
    {
     "name": "stderr",
     "output_type": "stream",
     "text": [
      "Epoch [53/100]: 100%|██████████| 860/860 [00:06<00:00, 123.54it/s, loss=2.05]\n"
     ]
    },
    {
     "name": "stdout",
     "output_type": "stream",
     "text": [
      "Epoch [53/100]: Train loss: 2.1140, Valid loss: 2.1049\n",
      "Saving model with loss 2.105...\n"
     ]
    },
    {
     "name": "stderr",
     "output_type": "stream",
     "text": [
      "Epoch [54/100]: 100%|██████████| 860/860 [00:06<00:00, 123.60it/s, loss=2.1] \n"
     ]
    },
    {
     "name": "stdout",
     "output_type": "stream",
     "text": [
      "Epoch [54/100]: Train loss: 2.1140, Valid loss: 2.1136\n"
     ]
    },
    {
     "name": "stderr",
     "output_type": "stream",
     "text": [
      "Epoch [55/100]: 100%|██████████| 860/860 [00:06<00:00, 124.18it/s, loss=2.12]\n"
     ]
    },
    {
     "name": "stdout",
     "output_type": "stream",
     "text": [
      "Epoch [55/100]: Train loss: 2.1125, Valid loss: 2.1290\n"
     ]
    },
    {
     "name": "stderr",
     "output_type": "stream",
     "text": [
      "Epoch [56/100]: 100%|██████████| 860/860 [00:06<00:00, 123.35it/s, loss=2.26]\n"
     ]
    },
    {
     "name": "stdout",
     "output_type": "stream",
     "text": [
      "Epoch [56/100]: Train loss: 2.1126, Valid loss: 2.1270\n"
     ]
    },
    {
     "name": "stderr",
     "output_type": "stream",
     "text": [
      "Epoch [57/100]: 100%|██████████| 860/860 [00:06<00:00, 123.57it/s, loss=2.05]\n"
     ]
    },
    {
     "name": "stdout",
     "output_type": "stream",
     "text": [
      "Epoch [57/100]: Train loss: 2.1116, Valid loss: 2.1262\n"
     ]
    },
    {
     "name": "stderr",
     "output_type": "stream",
     "text": [
      "Epoch [58/100]: 100%|██████████| 860/860 [00:06<00:00, 125.02it/s, loss=2.17]\n"
     ]
    },
    {
     "name": "stdout",
     "output_type": "stream",
     "text": [
      "Epoch [58/100]: Train loss: 2.1122, Valid loss: 2.1078\n"
     ]
    },
    {
     "name": "stderr",
     "output_type": "stream",
     "text": [
      "Epoch [59/100]: 100%|██████████| 860/860 [00:06<00:00, 123.37it/s, loss=2.1] \n"
     ]
    },
    {
     "name": "stdout",
     "output_type": "stream",
     "text": [
      "Epoch [59/100]: Train loss: 2.1112, Valid loss: 2.1336\n"
     ]
    },
    {
     "name": "stderr",
     "output_type": "stream",
     "text": [
      "Epoch [60/100]: 100%|██████████| 860/860 [00:06<00:00, 124.45it/s, loss=1.99]\n"
     ]
    },
    {
     "name": "stdout",
     "output_type": "stream",
     "text": [
      "Epoch [60/100]: Train loss: 2.1108, Valid loss: 2.1310\n"
     ]
    },
    {
     "name": "stderr",
     "output_type": "stream",
     "text": [
      "Epoch [61/100]: 100%|██████████| 860/860 [00:06<00:00, 123.65it/s, loss=2.06]\n"
     ]
    },
    {
     "name": "stdout",
     "output_type": "stream",
     "text": [
      "Epoch [61/100]: Train loss: 2.1108, Valid loss: 2.1331\n"
     ]
    },
    {
     "name": "stderr",
     "output_type": "stream",
     "text": [
      "Epoch [62/100]: 100%|██████████| 860/860 [00:06<00:00, 123.25it/s, loss=2.11]\n"
     ]
    },
    {
     "name": "stdout",
     "output_type": "stream",
     "text": [
      "Epoch [62/100]: Train loss: 2.1096, Valid loss: 2.1011\n",
      "Saving model with loss 2.101...\n"
     ]
    },
    {
     "name": "stderr",
     "output_type": "stream",
     "text": [
      "Epoch [63/100]: 100%|██████████| 860/860 [00:06<00:00, 123.97it/s, loss=2.18]\n"
     ]
    },
    {
     "name": "stdout",
     "output_type": "stream",
     "text": [
      "Epoch [63/100]: Train loss: 2.1094, Valid loss: 2.1009\n",
      "Saving model with loss 2.101...\n"
     ]
    },
    {
     "name": "stderr",
     "output_type": "stream",
     "text": [
      "Epoch [64/100]: 100%|██████████| 860/860 [00:06<00:00, 123.10it/s, loss=2.13]\n"
     ]
    },
    {
     "name": "stdout",
     "output_type": "stream",
     "text": [
      "Epoch [64/100]: Train loss: 2.1079, Valid loss: 2.0953\n",
      "Saving model with loss 2.095...\n"
     ]
    },
    {
     "name": "stderr",
     "output_type": "stream",
     "text": [
      "Epoch [65/100]: 100%|██████████| 860/860 [00:06<00:00, 124.11it/s, loss=2.15]\n"
     ]
    },
    {
     "name": "stdout",
     "output_type": "stream",
     "text": [
      "Epoch [65/100]: Train loss: 2.1074, Valid loss: 2.1003\n"
     ]
    },
    {
     "name": "stderr",
     "output_type": "stream",
     "text": [
      "Epoch [66/100]: 100%|██████████| 860/860 [00:06<00:00, 123.49it/s, loss=2.32]\n"
     ]
    },
    {
     "name": "stdout",
     "output_type": "stream",
     "text": [
      "Epoch [66/100]: Train loss: 2.1072, Valid loss: 2.1115\n"
     ]
    },
    {
     "name": "stderr",
     "output_type": "stream",
     "text": [
      "Epoch [67/100]: 100%|██████████| 860/860 [00:06<00:00, 123.64it/s, loss=2.02]\n"
     ]
    },
    {
     "name": "stdout",
     "output_type": "stream",
     "text": [
      "Epoch [67/100]: Train loss: 2.1072, Valid loss: 2.1107\n"
     ]
    },
    {
     "name": "stderr",
     "output_type": "stream",
     "text": [
      "Epoch [68/100]: 100%|██████████| 860/860 [00:06<00:00, 123.72it/s, loss=2.07]\n"
     ]
    },
    {
     "name": "stdout",
     "output_type": "stream",
     "text": [
      "Epoch [68/100]: Train loss: 2.1060, Valid loss: 2.1099\n"
     ]
    },
    {
     "name": "stderr",
     "output_type": "stream",
     "text": [
      "Epoch [69/100]: 100%|██████████| 860/860 [00:06<00:00, 123.68it/s, loss=2.15]\n"
     ]
    },
    {
     "name": "stdout",
     "output_type": "stream",
     "text": [
      "Epoch [69/100]: Train loss: 2.1056, Valid loss: 2.1323\n"
     ]
    },
    {
     "name": "stderr",
     "output_type": "stream",
     "text": [
      "Epoch [70/100]: 100%|██████████| 860/860 [00:06<00:00, 123.82it/s, loss=2.17]\n"
     ]
    },
    {
     "name": "stdout",
     "output_type": "stream",
     "text": [
      "Epoch [70/100]: Train loss: 2.1039, Valid loss: 2.1055\n"
     ]
    },
    {
     "name": "stderr",
     "output_type": "stream",
     "text": [
      "Epoch [71/100]: 100%|██████████| 860/860 [00:06<00:00, 124.12it/s, loss=2.14]\n"
     ]
    },
    {
     "name": "stdout",
     "output_type": "stream",
     "text": [
      "Epoch [71/100]: Train loss: 2.1028, Valid loss: 2.1175\n"
     ]
    },
    {
     "name": "stderr",
     "output_type": "stream",
     "text": [
      "Epoch [72/100]: 100%|██████████| 860/860 [00:06<00:00, 123.77it/s, loss=2.02]\n"
     ]
    },
    {
     "name": "stdout",
     "output_type": "stream",
     "text": [
      "Epoch [72/100]: Train loss: 2.1023, Valid loss: 2.0942\n",
      "Saving model with loss 2.094...\n"
     ]
    },
    {
     "name": "stderr",
     "output_type": "stream",
     "text": [
      "Epoch [73/100]: 100%|██████████| 860/860 [00:06<00:00, 123.29it/s, loss=2.08]\n"
     ]
    },
    {
     "name": "stdout",
     "output_type": "stream",
     "text": [
      "Epoch [73/100]: Train loss: 2.1017, Valid loss: 2.1021\n"
     ]
    },
    {
     "name": "stderr",
     "output_type": "stream",
     "text": [
      "Epoch [74/100]: 100%|██████████| 860/860 [00:06<00:00, 123.65it/s, loss=2.02]\n"
     ]
    },
    {
     "name": "stdout",
     "output_type": "stream",
     "text": [
      "Epoch [74/100]: Train loss: 2.1013, Valid loss: 2.1023\n"
     ]
    },
    {
     "name": "stderr",
     "output_type": "stream",
     "text": [
      "Epoch [75/100]: 100%|██████████| 860/860 [00:06<00:00, 124.21it/s, loss=2.01]\n"
     ]
    },
    {
     "name": "stdout",
     "output_type": "stream",
     "text": [
      "Epoch [75/100]: Train loss: 2.1008, Valid loss: 2.1105\n"
     ]
    },
    {
     "name": "stderr",
     "output_type": "stream",
     "text": [
      "Epoch [76/100]: 100%|██████████| 860/860 [00:06<00:00, 124.37it/s, loss=2.01]\n"
     ]
    },
    {
     "name": "stdout",
     "output_type": "stream",
     "text": [
      "Epoch [76/100]: Train loss: 2.0987, Valid loss: 2.0920\n",
      "Saving model with loss 2.092...\n"
     ]
    },
    {
     "name": "stderr",
     "output_type": "stream",
     "text": [
      "Epoch [77/100]: 100%|██████████| 860/860 [00:06<00:00, 123.46it/s, loss=2.07]\n"
     ]
    },
    {
     "name": "stdout",
     "output_type": "stream",
     "text": [
      "Epoch [77/100]: Train loss: 2.0984, Valid loss: 2.1019\n"
     ]
    },
    {
     "name": "stderr",
     "output_type": "stream",
     "text": [
      "Epoch [78/100]: 100%|██████████| 860/860 [00:06<00:00, 124.93it/s, loss=2.2] \n"
     ]
    },
    {
     "name": "stdout",
     "output_type": "stream",
     "text": [
      "Epoch [78/100]: Train loss: 2.0981, Valid loss: 2.1070\n"
     ]
    },
    {
     "name": "stderr",
     "output_type": "stream",
     "text": [
      "Epoch [79/100]: 100%|██████████| 860/860 [00:06<00:00, 123.89it/s, loss=2.07]\n"
     ]
    },
    {
     "name": "stdout",
     "output_type": "stream",
     "text": [
      "Epoch [79/100]: Train loss: 2.0971, Valid loss: 2.0957\n"
     ]
    },
    {
     "name": "stderr",
     "output_type": "stream",
     "text": [
      "Epoch [80/100]: 100%|██████████| 860/860 [00:06<00:00, 123.78it/s, loss=2.05]\n"
     ]
    },
    {
     "name": "stdout",
     "output_type": "stream",
     "text": [
      "Epoch [80/100]: Train loss: 2.0970, Valid loss: 2.0948\n"
     ]
    },
    {
     "name": "stderr",
     "output_type": "stream",
     "text": [
      "Epoch [81/100]: 100%|██████████| 860/860 [00:06<00:00, 124.02it/s, loss=2.14]\n"
     ]
    },
    {
     "name": "stdout",
     "output_type": "stream",
     "text": [
      "Epoch [81/100]: Train loss: 2.0949, Valid loss: 2.0815\n",
      "Saving model with loss 2.081...\n"
     ]
    },
    {
     "name": "stderr",
     "output_type": "stream",
     "text": [
      "Epoch [82/100]: 100%|██████████| 860/860 [00:06<00:00, 123.67it/s, loss=2.01]\n"
     ]
    },
    {
     "name": "stdout",
     "output_type": "stream",
     "text": [
      "Epoch [82/100]: Train loss: 2.0947, Valid loss: 2.0965\n"
     ]
    },
    {
     "name": "stderr",
     "output_type": "stream",
     "text": [
      "Epoch [83/100]: 100%|██████████| 860/860 [00:06<00:00, 123.30it/s, loss=2.2] \n"
     ]
    },
    {
     "name": "stdout",
     "output_type": "stream",
     "text": [
      "Epoch [83/100]: Train loss: 2.0940, Valid loss: 2.0982\n"
     ]
    },
    {
     "name": "stderr",
     "output_type": "stream",
     "text": [
      "Epoch [84/100]: 100%|██████████| 860/860 [00:06<00:00, 123.82it/s, loss=2.03]\n"
     ]
    },
    {
     "name": "stdout",
     "output_type": "stream",
     "text": [
      "Epoch [84/100]: Train loss: 2.0929, Valid loss: 2.0784\n",
      "Saving model with loss 2.078...\n"
     ]
    },
    {
     "name": "stderr",
     "output_type": "stream",
     "text": [
      "Epoch [85/100]: 100%|██████████| 860/860 [00:06<00:00, 124.12it/s, loss=2.1] \n"
     ]
    },
    {
     "name": "stdout",
     "output_type": "stream",
     "text": [
      "Epoch [85/100]: Train loss: 2.0910, Valid loss: 2.1121\n"
     ]
    },
    {
     "name": "stderr",
     "output_type": "stream",
     "text": [
      "Epoch [86/100]: 100%|██████████| 860/860 [00:06<00:00, 123.07it/s, loss=2.15]\n"
     ]
    },
    {
     "name": "stdout",
     "output_type": "stream",
     "text": [
      "Epoch [86/100]: Train loss: 2.0915, Valid loss: 2.1139\n"
     ]
    },
    {
     "name": "stderr",
     "output_type": "stream",
     "text": [
      "Epoch [87/100]: 100%|██████████| 860/860 [00:06<00:00, 123.03it/s, loss=2.07]\n"
     ]
    },
    {
     "name": "stdout",
     "output_type": "stream",
     "text": [
      "Epoch [87/100]: Train loss: 2.0902, Valid loss: 2.0823\n"
     ]
    },
    {
     "name": "stderr",
     "output_type": "stream",
     "text": [
      "Epoch [88/100]: 100%|██████████| 860/860 [00:06<00:00, 124.14it/s, loss=1.97]\n"
     ]
    },
    {
     "name": "stdout",
     "output_type": "stream",
     "text": [
      "Epoch [88/100]: Train loss: 2.0908, Valid loss: 2.0731\n",
      "Saving model with loss 2.073...\n"
     ]
    },
    {
     "name": "stderr",
     "output_type": "stream",
     "text": [
      "Epoch [89/100]: 100%|██████████| 860/860 [00:06<00:00, 123.10it/s, loss=2.06]\n"
     ]
    },
    {
     "name": "stdout",
     "output_type": "stream",
     "text": [
      "Epoch [89/100]: Train loss: 2.0889, Valid loss: 2.0989\n"
     ]
    },
    {
     "name": "stderr",
     "output_type": "stream",
     "text": [
      "Epoch [90/100]: 100%|██████████| 860/860 [00:06<00:00, 123.98it/s, loss=2.09]\n"
     ]
    },
    {
     "name": "stdout",
     "output_type": "stream",
     "text": [
      "Epoch [90/100]: Train loss: 2.0894, Valid loss: 2.1105\n"
     ]
    },
    {
     "name": "stderr",
     "output_type": "stream",
     "text": [
      "Epoch [91/100]: 100%|██████████| 860/860 [00:06<00:00, 123.77it/s, loss=2.04]\n"
     ]
    },
    {
     "name": "stdout",
     "output_type": "stream",
     "text": [
      "Epoch [91/100]: Train loss: 2.0876, Valid loss: 2.0801\n"
     ]
    },
    {
     "name": "stderr",
     "output_type": "stream",
     "text": [
      "Epoch [92/100]: 100%|██████████| 860/860 [00:06<00:00, 124.08it/s, loss=2.17]\n"
     ]
    },
    {
     "name": "stdout",
     "output_type": "stream",
     "text": [
      "Epoch [92/100]: Train loss: 2.0860, Valid loss: 2.0891\n"
     ]
    },
    {
     "name": "stderr",
     "output_type": "stream",
     "text": [
      "Epoch [93/100]: 100%|██████████| 860/860 [00:06<00:00, 123.94it/s, loss=2.11]\n"
     ]
    },
    {
     "name": "stdout",
     "output_type": "stream",
     "text": [
      "Epoch [93/100]: Train loss: 2.0856, Valid loss: 2.0866\n"
     ]
    },
    {
     "name": "stderr",
     "output_type": "stream",
     "text": [
      "Epoch [94/100]: 100%|██████████| 860/860 [00:06<00:00, 124.13it/s, loss=2.07]\n"
     ]
    },
    {
     "name": "stdout",
     "output_type": "stream",
     "text": [
      "Epoch [94/100]: Train loss: 2.0854, Valid loss: 2.0762\n"
     ]
    },
    {
     "name": "stderr",
     "output_type": "stream",
     "text": [
      "Epoch [95/100]: 100%|██████████| 860/860 [00:06<00:00, 123.72it/s, loss=2.15]\n"
     ]
    },
    {
     "name": "stdout",
     "output_type": "stream",
     "text": [
      "Epoch [95/100]: Train loss: 2.0849, Valid loss: 2.0822\n"
     ]
    },
    {
     "name": "stderr",
     "output_type": "stream",
     "text": [
      "Epoch [96/100]: 100%|██████████| 860/860 [00:06<00:00, 123.37it/s, loss=2.1] \n"
     ]
    },
    {
     "name": "stdout",
     "output_type": "stream",
     "text": [
      "Epoch [96/100]: Train loss: 2.0837, Valid loss: 2.0774\n"
     ]
    },
    {
     "name": "stderr",
     "output_type": "stream",
     "text": [
      "Epoch [97/100]: 100%|██████████| 860/860 [00:06<00:00, 123.92it/s, loss=2.11]\n"
     ]
    },
    {
     "name": "stdout",
     "output_type": "stream",
     "text": [
      "Epoch [97/100]: Train loss: 2.0841, Valid loss: 2.0948\n"
     ]
    },
    {
     "name": "stderr",
     "output_type": "stream",
     "text": [
      "Epoch [98/100]: 100%|██████████| 860/860 [00:06<00:00, 124.15it/s, loss=2.04]\n"
     ]
    },
    {
     "name": "stdout",
     "output_type": "stream",
     "text": [
      "Epoch [98/100]: Train loss: 2.0837, Valid loss: 2.1125\n"
     ]
    },
    {
     "name": "stderr",
     "output_type": "stream",
     "text": [
      "Epoch [99/100]: 100%|██████████| 860/860 [00:06<00:00, 123.51it/s, loss=2.21]\n"
     ]
    },
    {
     "name": "stdout",
     "output_type": "stream",
     "text": [
      "Epoch [99/100]: Train loss: 2.0839, Valid loss: 2.0849\n"
     ]
    },
    {
     "name": "stderr",
     "output_type": "stream",
     "text": [
      "Epoch [100/100]: 100%|██████████| 860/860 [00:06<00:00, 123.94it/s, loss=2]   \n"
     ]
    },
    {
     "name": "stdout",
     "output_type": "stream",
     "text": [
      "Epoch [100/100]: Train loss: 2.0836, Valid loss: 2.0974\n"
     ]
    }
   ],
   "source": [
    "# Set seed for reproducibility\n",
    "same_seed(config['seed'])\n",
    "\n",
    "model = Classifier().to(device)\n",
    "trainer(train_loader, valid_loader, test_loader, model, config, device)"
   ]
  },
  {
   "cell_type": "markdown",
   "metadata": {},
   "source": [
    "# Testing"
   ]
  },
  {
   "cell_type": "code",
   "execution_count": 32,
   "metadata": {},
   "outputs": [
    {
     "name": "stderr",
     "output_type": "stream",
     "text": [
      "100%|██████████| 157/157 [00:00<00:00, 205.78it/s]\n"
     ]
    }
   ],
   "source": [
    "model_best = Classifier().to(device)\n",
    "model_best.load_state_dict(torch.load(config['save_path']))\n",
    "preds_list, labels_list = predict(test_loader, model_best, device)  \n",
    "\n",
    "save_pred(preds_list, 'preds_list.csv')\n",
    "save_pred(labels_list, 'labels_list.csv')"
   ]
  },
  {
   "cell_type": "code",
   "execution_count": 34,
   "metadata": {},
   "outputs": [
    {
     "data": {
      "image/png": "[encoded data removed]",
      "text/plain": [
       "<Figure size 640x480 with 1 Axes>"
      ]
     },
     "metadata": {},
     "output_type": "display_data"
    },
    {
     "name": "stdout",
     "output_type": "stream",
     "text": [
      "label: 8, pred: 9\n"
     ]
    }
   ],
   "source": [
    "img, label = test_set[435]\n",
    "plt.imshow(img.reshape(28,28), cmap='gray')\n",
    "plt.show()\n",
    "print(f'label: {label}, pred: {preds_list[435]}')"
   ]
  },
  {
   "cell_type": "markdown",
   "metadata": {},
   "source": [
    "# Hook"
   ]
  },
  {
   "cell_type": "code",
   "execution_count": 35,
   "metadata": {},
   "outputs": [],
   "source": [
    "model_best = Classifier().to(device)\n",
    "model_best.load_state_dict(torch.load(config['save_path']))\n",
    "model_best.eval()\n",
    "\n",
    "record_conv0 = list()\n",
    "record_conv1 = list()\n",
    "record_conv2 = list()\n",
    "\n",
    "\n",
    "def hook_conv0(self, input, output):\n",
    "    record_conv0.append(output)\n",
    "\n",
    "def hook_conv1(self, input, output):\n",
    "    record_conv1.append(output)\n",
    "\n",
    "def hook_conv2(self, input, output):\n",
    "    record_conv2.append(output)\n",
    "\n",
    "\n",
    "model_best.cnn_layers[0].register_forward_hook(hook_conv0)\n",
    "model_best.cnn_layers[4].register_forward_hook(hook_conv1)\n",
    "model_best.cnn_layers[8].register_forward_hook(hook_conv2)\n",
    "\n",
    "\n",
    "test_Img = DataLoader(test_set, batch_size=1, shuffle=False, num_workers=0, pin_memory=True)\n",
    "\n",
    "\n",
    "with torch.no_grad():\n",
    "    for imgs, labels in test_Img:\n",
    "        test_pred = model_best(imgs.to(device))\n"
   ]
  },
  {
   "cell_type": "markdown",
   "metadata": {},
   "source": [
    "# Feature Map"
   ]
  },
  {
   "cell_type": "code",
   "execution_count": 36,
   "metadata": {},
   "outputs": [
    {
     "data": {
      "image/png": "[encoded data removed]",
      "text/plain": [
       "<Figure size 640x480 with 3 Axes>"
      ]
     },
     "metadata": {},
     "output_type": "display_data"
    }
   ],
   "source": [
    "conv0_out = record_conv0[0].squeeze(0)\n",
    "conv0_out = torch.mean(conv0_out, dim=0)\n",
    "conv0_out = conv0_out.cpu()\n",
    "\n",
    "conv1_out = record_conv1[0].squeeze(0)\n",
    "conv1_out = torch.mean(conv1_out, dim=0)\n",
    "conv1_out = conv1_out.cpu()\n",
    "\n",
    "conv2_out = record_conv2[0].squeeze(0)\n",
    "conv2_out = torch.mean(conv2_out, dim=0)\n",
    "conv2_out = conv2_out.cpu()\n",
    "\n",
    "plt.subplot(1,3,1)\n",
    "plt.imshow(conv0_out, cmap='gray')\n",
    "plt.subplot(1,3,2)\n",
    "plt.imshow(conv1_out, cmap='gray')\n",
    "plt.subplot(1,3,3)\n",
    "plt.imshow(conv2_out, cmap='gray')\n",
    "plt.show()"
   ]
  }
 ],
 "metadata": {
  "kernelspec": {
   "display_name": "Python 3.9.13 ('pytorch')",
   "language": "python",
   "name": "python3"
  },
  "language_info": {
   "codemirror_mode": {
    "name": "ipython",
    "version": 3
   },
   "file_extension": ".py",
   "mimetype": "text/x-python",
   "name": "python",
   "nbconvert_exporter": "python",
   "pygments_lexer": "ipython3",
   "version": "3.9.13"
  },
  "orig_nbformat": 4,
  "vscode": {
   "interpreter": {
    "hash": "2ff1bda0e7a2f2f82134e3aa12be1c3070db11518121e26c0279a3d3be906a0b"
   }
  }
 },
 "nbformat": 4,
 "nbformat_minor": 2
}
