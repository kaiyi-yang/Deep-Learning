{
 "cells": [
  {
   "cell_type": "markdown",
   "metadata": {},
   "source": [
    "# Import Packages"
   ]
  },
  {
   "cell_type": "code",
   "execution_count": 2,
   "metadata": {},
   "outputs": [],
   "source": [
    "# Numerical Operations\n",
    "import numpy as np\n",
    "import math\n",
    "from matplotlib import pyplot as plt\n",
    "\n",
    "# Reading/Writing Data\n",
    "import pandas as pd\n",
    "import os\n",
    "import csv\n",
    "\n",
    "# For Progress Bar\n",
    "from tqdm import tqdm\n",
    "\n",
    "# Pytorch\n",
    "import torch \n",
    "import torch.nn as nn\n",
    "from torch.utils.data import Dataset, DataLoader\n",
    "from torchvision import datasets, models\n",
    "import torchvision.transforms as transforms\n",
    "\n",
    "# For plotting learning curve\n",
    "from torch.utils.tensorboard import SummaryWriter"
   ]
  },
  {
   "cell_type": "markdown",
   "metadata": {},
   "source": [
    "# Useful Functions"
   ]
  },
  {
   "cell_type": "code",
   "execution_count": 3,
   "metadata": {},
   "outputs": [],
   "source": [
    "def same_seed(seed): \n",
    "    torch.backends.cudnn.deterministic = True\n",
    "    torch.backends.cudnn.benchmark = False\n",
    "    np.random.seed(seed)\n",
    "    torch.manual_seed(seed)\n",
    "    if torch.cuda.is_available():\n",
    "        torch.cuda.manual_seed_all(seed)\n",
    "\n",
    "\n",
    "def predict(test_loader, model, device):\n",
    "    model.eval()\n",
    "    preds_list = list()\n",
    "    labels_list = list()\n",
    "    for imgs, labels in tqdm(test_loader):\n",
    "        imgs = imgs.to(device)\n",
    "        labels_list += labels.squeeze().tolist()                       \n",
    "        with torch.no_grad():  \n",
    "            pred = model(imgs) \n",
    "            pred_label = np.argmax(pred.cpu().data.numpy(), axis=1)\n",
    "            preds_list += pred_label.squeeze().tolist()          \n",
    "    return preds_list, labels_list\n",
    "\n",
    "\n",
    "def save_pred(preds, file):\n",
    "    with open(file, 'w') as fp:\n",
    "        writer = csv.writer(fp)\n",
    "        writer.writerow(['id', 'pred'])\n",
    "        for i, p in enumerate(preds):\n",
    "            writer.writerow([i, p])\n",
    "\n",
    "def cal_l2(model):\n",
    "    l2_weight = 0.1\n",
    "    l2_parameters = list()\n",
    "    for parameter in model.parameters():\n",
    "        l2_parameters.append(parameter.view(-1))\n",
    "        l2 = l2_weight * model.compute_l2_loss(torch.cat(l2_parameters))\n",
    "    return l2"
   ]
  },
  {
   "cell_type": "markdown",
   "metadata": {},
   "source": [
    "# Datasets"
   ]
  },
  {
   "cell_type": "code",
   "execution_count": 4,
   "metadata": {},
   "outputs": [
    {
     "ename": "RuntimeError",
     "evalue": "Dataset not found or corrupted. You can use download=True to download it",
     "output_type": "error",
     "traceback": [
      "\u001b[1;31m---------------------------------------------------------------------------\u001b[0m",
      "\u001b[1;31mRuntimeError\u001b[0m                              Traceback (most recent call last)",
      "\u001b[1;32mc:\\Users\\YANG\\OneDrive - 國立陽明交通大學\\DL\\HW2\\hw2 309651066\\CNN_CIFAR10.ipynb Cell 6\u001b[0m in \u001b[0;36m<cell line: 4>\u001b[1;34m()\u001b[0m\n\u001b[0;32m      <a href='vscode-notebook-cell:/c%3A/Users/YANG/OneDrive%20-%20%E5%9C%8B%E7%AB%8B%E9%99%BD%E6%98%8E%E4%BA%A4%E9%80%9A%E5%A4%A7%E5%AD%B8/DL/HW2/hw2%20309651066/CNN_CIFAR10.ipynb#W5sZmlsZQ%3D%3D?line=0'>1</a>\u001b[0m train_tfm \u001b[39m=\u001b[39m transforms\u001b[39m.\u001b[39mCompose([transforms\u001b[39m.\u001b[39mRandomHorizontalFlip(), transforms\u001b[39m.\u001b[39mToTensor(), transforms\u001b[39m.\u001b[39mNormalize((\u001b[39m0.5\u001b[39m, \u001b[39m0.5\u001b[39m, \u001b[39m0.5\u001b[39m), (\u001b[39m0.5\u001b[39m, \u001b[39m0.5\u001b[39m, \u001b[39m0.5\u001b[39m))])\n\u001b[0;32m      <a href='vscode-notebook-cell:/c%3A/Users/YANG/OneDrive%20-%20%E5%9C%8B%E7%AB%8B%E9%99%BD%E6%98%8E%E4%BA%A4%E9%80%9A%E5%A4%A7%E5%AD%B8/DL/HW2/hw2%20309651066/CNN_CIFAR10.ipynb#W5sZmlsZQ%3D%3D?line=1'>2</a>\u001b[0m test_tfm \u001b[39m=\u001b[39m transforms\u001b[39m.\u001b[39mCompose([transforms\u001b[39m.\u001b[39mToTensor(), transforms\u001b[39m.\u001b[39mNormalize((\u001b[39m0.5\u001b[39m, \u001b[39m0.5\u001b[39m, \u001b[39m0.5\u001b[39m), (\u001b[39m0.5\u001b[39m, \u001b[39m0.5\u001b[39m, \u001b[39m0.5\u001b[39m))])\n\u001b[1;32m----> <a href='vscode-notebook-cell:/c%3A/Users/YANG/OneDrive%20-%20%E5%9C%8B%E7%AB%8B%E9%99%BD%E6%98%8E%E4%BA%A4%E9%80%9A%E5%A4%A7%E5%AD%B8/DL/HW2/hw2%20309651066/CNN_CIFAR10.ipynb#W5sZmlsZQ%3D%3D?line=3'>4</a>\u001b[0m CIFAR_train \u001b[39m=\u001b[39m datasets\u001b[39m.\u001b[39;49mCIFAR10(\u001b[39m'\u001b[39;49m\u001b[39m./CIFAR10_training\u001b[39;49m\u001b[39m'\u001b[39;49m, train\u001b[39m=\u001b[39;49m\u001b[39mTrue\u001b[39;49;00m, download\u001b[39m=\u001b[39;49m\u001b[39mFalse\u001b[39;49;00m, transform\u001b[39m=\u001b[39;49mtrain_tfm)\n\u001b[0;32m      <a href='vscode-notebook-cell:/c%3A/Users/YANG/OneDrive%20-%20%E5%9C%8B%E7%AB%8B%E9%99%BD%E6%98%8E%E4%BA%A4%E9%80%9A%E5%A4%A7%E5%AD%B8/DL/HW2/hw2%20309651066/CNN_CIFAR10.ipynb#W5sZmlsZQ%3D%3D?line=4'>5</a>\u001b[0m CIFAR_test \u001b[39m=\u001b[39m datasets\u001b[39m.\u001b[39mCIFAR10(\u001b[39m'\u001b[39m\u001b[39m./CIFAR10_testing\u001b[39m\u001b[39m'\u001b[39m, train\u001b[39m=\u001b[39m\u001b[39mFalse\u001b[39;00m, download\u001b[39m=\u001b[39m\u001b[39mFalse\u001b[39;00m, transform\u001b[39m=\u001b[39mtest_tfm)\n\u001b[0;32m      <a href='vscode-notebook-cell:/c%3A/Users/YANG/OneDrive%20-%20%E5%9C%8B%E7%AB%8B%E9%99%BD%E6%98%8E%E4%BA%A4%E9%80%9A%E5%A4%A7%E5%AD%B8/DL/HW2/hw2%20309651066/CNN_CIFAR10.ipynb#W5sZmlsZQ%3D%3D?line=5'>6</a>\u001b[0m train_set, valid_set \u001b[39m=\u001b[39m torch\u001b[39m.\u001b[39mutils\u001b[39m.\u001b[39mdata\u001b[39m.\u001b[39mrandom_split(CIFAR_train, [\u001b[39m45000\u001b[39m, \u001b[39m5000\u001b[39m])\n",
      "File \u001b[1;32mc:\\Users\\YANG\\anaconda3\\envs\\myenv\\lib\\site-packages\\torchvision\\datasets\\cifar.py:68\u001b[0m, in \u001b[0;36mCIFAR10.__init__\u001b[1;34m(self, root, train, transform, target_transform, download)\u001b[0m\n\u001b[0;32m     65\u001b[0m     \u001b[39mself\u001b[39m\u001b[39m.\u001b[39mdownload()\n\u001b[0;32m     67\u001b[0m \u001b[39mif\u001b[39;00m \u001b[39mnot\u001b[39;00m \u001b[39mself\u001b[39m\u001b[39m.\u001b[39m_check_integrity():\n\u001b[1;32m---> 68\u001b[0m     \u001b[39mraise\u001b[39;00m \u001b[39mRuntimeError\u001b[39;00m(\u001b[39m\"\u001b[39m\u001b[39mDataset not found or corrupted. You can use download=True to download it\u001b[39m\u001b[39m\"\u001b[39m)\n\u001b[0;32m     70\u001b[0m \u001b[39mif\u001b[39;00m \u001b[39mself\u001b[39m\u001b[39m.\u001b[39mtrain:\n\u001b[0;32m     71\u001b[0m     downloaded_list \u001b[39m=\u001b[39m \u001b[39mself\u001b[39m\u001b[39m.\u001b[39mtrain_list\n",
      "\u001b[1;31mRuntimeError\u001b[0m: Dataset not found or corrupted. You can use download=True to download it"
     ]
    }
   ],
   "source": [
    "train_tfm = transforms.Compose([transforms.RandomHorizontalFlip(), transforms.ToTensor(), transforms.Normalize((0.5, 0.5, 0.5), (0.5, 0.5, 0.5))])\n",
    "test_tfm = transforms.Compose([transforms.ToTensor(), transforms.Normalize((0.5, 0.5, 0.5), (0.5, 0.5, 0.5))])\n",
    "\n",
    "CIFAR_train = datasets.CIFAR10('./CIFAR10_training', train=True, download=False, transform=train_tfm)\n",
    "CIFAR_test = datasets.CIFAR10('./CIFAR10_testing', train=False, download=False, transform=test_tfm)\n",
    "train_set, valid_set = torch.utils.data.random_split(CIFAR_train, [45000, 5000])\n",
    "test_set = CIFAR_test"
   ]
  },
  {
   "cell_type": "code",
   "execution_count": 5,
   "metadata": {},
   "outputs": [
    {
     "name": "stderr",
     "output_type": "stream",
     "text": [
      "Clipping input data to the valid range for imshow with RGB data ([0..1] for floats or [0..255] for integers).\n"
     ]
    },
    {
     "name": "stdout",
     "output_type": "stream",
     "text": [
      "torch.Size([3, 32, 32])\n",
      "1\n"
     ]
    },
    {
     "data": {
      "image/png": "[encoded data removed]",
      "text/plain": [
       "<Figure size 640x480 with 1 Axes>"
      ]
     },
     "metadata": {},
     "output_type": "display_data"
    }
   ],
   "source": [
    "img, label = train_set[0]\n",
    "print(img.shape)\n",
    "print(label)\n",
    "plt.imshow(img.permute(1,2,0))\n",
    "plt.show()\n",
    "\n",
    "classes = ['plane', 'car', 'bird', 'cat',\n",
    "           'deer', 'dog', 'frog', 'horse', 'ship', 'truck']"
   ]
  },
  {
   "cell_type": "markdown",
   "metadata": {},
   "source": [
    "# Configurations"
   ]
  },
  {
   "cell_type": "code",
   "execution_count": 24,
   "metadata": {},
   "outputs": [],
   "source": [
    "device = 'cuda' if torch.cuda.is_available() else 'cpu'\n",
    "\n",
    "config = {\n",
    "    'seed':6666,\n",
    "    'n_epochs': 100,     # Number of epochs.            \n",
    "    'batch_size': 256, \n",
    "    'learning_rate': 1e-4,              \n",
    "    'early_stop': 400,    # If model has not improved for this many consecutive epochs, stop training.     \n",
    "    'save_path': './models/model.ckpt'  # Your model will be saved here.\n",
    "}"
   ]
  },
  {
   "cell_type": "markdown",
   "metadata": {},
   "source": [
    "# DataLoder"
   ]
  },
  {
   "cell_type": "code",
   "execution_count": 7,
   "metadata": {},
   "outputs": [],
   "source": [
    "train_loader = DataLoader(train_set, batch_size=config['batch_size'], shuffle=True, num_workers=0, pin_memory=True)\n",
    "valid_loader = DataLoader(valid_set, batch_size=config['batch_size'], shuffle=True, num_workers=0, pin_memory=True)\n",
    "test_loader = DataLoader(test_set, batch_size=config['batch_size'], shuffle=False, num_workers=0, pin_memory=True)"
   ]
  },
  {
   "cell_type": "markdown",
   "metadata": {},
   "source": [
    "# Module"
   ]
  },
  {
   "cell_type": "code",
   "execution_count": 19,
   "metadata": {},
   "outputs": [],
   "source": [
    "class Classifier(nn.Module):\n",
    "    def __init__(self):\n",
    "        super(Classifier, self).__init__()\n",
    "        # input dim [3, 32, 32]\n",
    "        self.cnn_layers = nn.Sequential(\n",
    "\n",
    "            nn.Conv2d(3,64,kernel_size=3,padding=1),\n",
    "            nn.BatchNorm2d(64),\n",
    "            nn.ReLU(True),\n",
    "            \n",
    "            nn.Conv2d(64,64,kernel_size=3,padding=1),\n",
    "            nn.BatchNorm2d(64),\n",
    "            nn.ReLU(True),\n",
    "            nn.MaxPool2d(kernel_size=2,stride=2),\n",
    "            \n",
    "            nn.Conv2d(64,128,kernel_size=3,padding=1),\n",
    "            nn.BatchNorm2d(128),\n",
    "            nn.ReLU(True),\n",
    "            \n",
    "            nn.Conv2d(128,128,kernel_size=3,padding=1),\n",
    "            nn.BatchNorm2d(128),\n",
    "            nn.ReLU(True),\n",
    "            nn.MaxPool2d(kernel_size=2,stride=2),\n",
    "            \n",
    "            nn.Conv2d(128,256,kernel_size=3,padding=1),\n",
    "            nn.BatchNorm2d(256),\n",
    "            nn.ReLU(True),\n",
    "            \n",
    "            nn.Conv2d(256,256,kernel_size=3,padding=1),\n",
    "            nn.BatchNorm2d(256),\n",
    "            nn.ReLU(True),\n",
    "            \n",
    "            nn.Conv2d(256,256,kernel_size=3,padding=1),\n",
    "            nn.BatchNorm2d(256),\n",
    "            nn.ReLU(True),\n",
    "            nn.MaxPool2d(kernel_size=2,stride=2),\n",
    "            \n",
    "            nn.Conv2d(256,512,kernel_size=3,padding=1),\n",
    "            nn.BatchNorm2d(512),\n",
    "            nn.ReLU(True),\n",
    "            \n",
    "            nn.Conv2d(512,512,kernel_size=3,padding=1),\n",
    "            nn.BatchNorm2d(512),\n",
    "            nn.ReLU(True),\n",
    "            \n",
    "            nn.Conv2d(512,512,kernel_size=3,padding=1),\n",
    "            nn.BatchNorm2d(512),\n",
    "            nn.ReLU(True),\n",
    "            nn.MaxPool2d(kernel_size=2,stride=2),\n",
    "            \n",
    "            nn.Conv2d(512,512,kernel_size=3,padding=1),\n",
    "            nn.BatchNorm2d(512),\n",
    "            nn.ReLU(True),\n",
    "            \n",
    "            nn.Conv2d(512,512,kernel_size=3,padding=1),\n",
    "            nn.BatchNorm2d(512),\n",
    "            nn.ReLU(True),\n",
    "            \n",
    "            nn.Conv2d(512,512,kernel_size=3,padding=1),\n",
    "            nn.BatchNorm2d(512),\n",
    "            nn.ReLU(True),\n",
    "            nn.MaxPool2d(kernel_size=2,stride=2),\n",
    "            nn.AvgPool2d(kernel_size=1,stride=1),\n",
    "            )\n",
    "\n",
    "\n",
    "        self.fc_layers = nn.Sequential(\n",
    "            \n",
    "            nn.Linear(512,4096),\n",
    "            nn.ReLU(True),\n",
    "            nn.Dropout(),\n",
    "            \n",
    "            nn.Linear(4096, 4096),\n",
    "            nn.ReLU(True),\n",
    "            nn.Dropout(),\n",
    "    \n",
    "            nn.Linear(4096, 10),\n",
    "\n",
    "        )\n",
    "\n",
    "    def forward(self, x):\n",
    "        out = self.cnn_layers(x)\n",
    "        out = out.view(out.size()[0], -1)\n",
    "        return self.fc_layers(out)\n",
    "\n",
    "\n",
    "    def compute_l2_loss(self, w):\n",
    "        return torch.square(w).sum()"
   ]
  },
  {
   "cell_type": "markdown",
   "metadata": {},
   "source": [
    "# Training Loop"
   ]
  },
  {
   "cell_type": "code",
   "execution_count": 25,
   "metadata": {},
   "outputs": [],
   "source": [
    "def trainer(train_loader, valid_loader, test_loader, model, config, device):\n",
    "\n",
    "    criterion = nn.CrossEntropyLoss() \n",
    "    \n",
    "    optimizer = torch.optim.Adam(model.parameters(), lr=config['learning_rate'])\n",
    "\n",
    "\n",
    "    writer = SummaryWriter() # Writer of tensoboard.\n",
    "\n",
    "    if not os.path.isdir('./models'):\n",
    "        os.mkdir('./models') # Create directory of saving models.\n",
    "\n",
    "    n_epochs, best_loss, step, early_stop_count = config['n_epochs'], math.inf, 0, 0\n",
    "\n",
    "    for epoch in range(n_epochs):\n",
    "        model.train() # Set model to train mode.\n",
    "        train_loss = []\n",
    "        train_accs = []\n",
    "\n",
    "        train_pbar = tqdm(train_loader, position=0, leave=True)\n",
    "\n",
    "        for imgs, labels in train_pbar:\n",
    "            \n",
    "            imgs, labels = imgs.to(device), labels.to(device)   # Move your data to device. \n",
    "            pred = model(imgs)  \n",
    "\n",
    "            loss = criterion(pred, labels)\n",
    "            l2 = cal_l2(model)\n",
    "            loss += l2\n",
    "\n",
    "            acc = (pred.argmax(dim=-1) == labels.to(device)).float().mean()\n",
    "            optimizer.zero_grad()               # Set gradient to zero.\n",
    "            loss.backward()                     # Compute gradient(backpropagation).\n",
    "            optimizer.step()                    # Update parameters.\n",
    "            \n",
    "            train_loss.append(loss.detach().item())\n",
    "            train_accs.append(acc)\n",
    "            \n",
    "            step += 1\n",
    "            # Display current epoch number and loss on tqdm progress bar.\n",
    "            train_pbar.set_description(f'Epoch [{epoch+1}/{n_epochs}]')\n",
    "            train_pbar.set_postfix({'loss': loss.detach().item()})\n",
    "\n",
    "        mean_train_loss = sum(train_loss) / len(train_loss)\n",
    "        mean_train_acc = sum(train_accs) / len(train_accs)\n",
    "\n",
    "\n",
    "        model.eval() # Set your model to evaluation mode.\n",
    "        valid_loss = []\n",
    "        valid_accs = []\n",
    "        test_loss = []\n",
    "        test_accs = []\n",
    "\n",
    "        for imgs, labels in valid_loader:\n",
    "            imgs, labels = imgs.to(device), labels.to(device)\n",
    "            with torch.no_grad():\n",
    "                pred = model(imgs)\n",
    "                loss = criterion(pred, labels)\n",
    "                l2 = cal_l2(model)\n",
    "                loss += l2\n",
    "                acc = (pred.argmax(dim=-1) == labels.to(device)).float().mean()\n",
    "\n",
    "            valid_loss.append(loss.item())\n",
    "            valid_accs.append(acc)\n",
    "            \n",
    "        mean_valid_loss = sum(valid_loss) / len(valid_loss)\n",
    "        mean_valid_acc = sum(valid_accs) / len(valid_accs)\n",
    "        \n",
    "        print(f'Epoch [{epoch+1}/{n_epochs}]: Train loss: {mean_train_loss:.4f}, Valid loss: {mean_valid_loss:.4f}')\n",
    "\n",
    "\n",
    "        for imgs, labels in test_loader:\n",
    "            imgs, labels = imgs.to(device), labels.to(device)\n",
    "            with torch.no_grad():\n",
    "                pred = model(imgs)\n",
    "                loss = criterion(pred, labels)\n",
    "                l2 = cal_l2(model)\n",
    "                loss += l2\n",
    "                acc = (pred.argmax(dim=-1) == labels.to(device)).float().mean()\n",
    "\n",
    "            test_loss.append(loss.item())\n",
    "            test_accs.append(acc)\n",
    "\n",
    "        mean_test_loss = sum(test_loss) / len(test_loss)\n",
    "        mean_test_acc = sum(test_accs) / len(test_accs)\n",
    "\n",
    "\n",
    "        writer.add_scalars('Loss', {'train':mean_train_loss, 'valid':mean_valid_loss, 'test':mean_test_loss}, step)\n",
    "        writer.add_scalars('Accuracy', {'train':mean_train_acc, 'valid':mean_valid_acc, 'test':mean_test_acc}, step)\n",
    "\n",
    "\n",
    "        for name, parms in model.named_parameters():\n",
    "            writer.add_histogram(name, parms, step)\n",
    "\n",
    "\n",
    "\n",
    "        if mean_valid_loss < best_loss:\n",
    "            best_loss = mean_valid_loss\n",
    "            torch.save(model.state_dict(), config['save_path']) # Save your best model\n",
    "            print('Saving model with loss {:.3f}...'.format(best_loss))\n",
    "            early_stop_count = 0\n",
    "        else: \n",
    "            early_stop_count += 1\n",
    "\n",
    "        if early_stop_count >= config['early_stop']:\n",
    "            print('\\nModel is not improving, so we halt the training session.')\n",
    "            return\n",
    "        "
   ]
  },
  {
   "cell_type": "markdown",
   "metadata": {},
   "source": [
    "# Start training"
   ]
  },
  {
   "cell_type": "code",
   "execution_count": 26,
   "metadata": {},
   "outputs": [
    {
     "name": "stderr",
     "output_type": "stream",
     "text": [
      "Epoch [1/30]: 100%|██████████| 176/176 [00:13<00:00, 12.93it/s, loss=295]\n"
     ]
    },
    {
     "name": "stdout",
     "output_type": "stream",
     "text": [
      "Epoch [1/30]: Train loss: 376.9547, Valid loss: 294.3215\n",
      "Saving model with loss 294.322...\n"
     ]
    },
    {
     "name": "stderr",
     "output_type": "stream",
     "text": [
      "Epoch [2/30]: 100%|██████████| 176/176 [00:13<00:00, 13.10it/s, loss=197]\n"
     ]
    },
    {
     "name": "stdout",
     "output_type": "stream",
     "text": [
      "Epoch [2/30]: Train loss: 243.3640, Valid loss: 196.7134\n",
      "Saving model with loss 196.713...\n"
     ]
    },
    {
     "name": "stderr",
     "output_type": "stream",
     "text": [
      "Epoch [3/30]: 100%|██████████| 176/176 [00:13<00:00, 13.06it/s, loss=127]\n"
     ]
    },
    {
     "name": "stdout",
     "output_type": "stream",
     "text": [
      "Epoch [3/30]: Train loss: 159.8406, Valid loss: 126.4107\n",
      "Saving model with loss 126.411...\n"
     ]
    },
    {
     "name": "stderr",
     "output_type": "stream",
     "text": [
      "Epoch [4/30]: 100%|██████████| 176/176 [00:13<00:00, 13.07it/s, loss=77.4]\n"
     ]
    },
    {
     "name": "stdout",
     "output_type": "stream",
     "text": [
      "Epoch [4/30]: Train loss: 100.5764, Valid loss: 77.3884\n",
      "Saving model with loss 77.388...\n"
     ]
    },
    {
     "name": "stderr",
     "output_type": "stream",
     "text": [
      "Epoch [5/30]: 100%|██████████| 176/176 [00:13<00:00, 13.07it/s, loss=45.5]\n"
     ]
    },
    {
     "name": "stdout",
     "output_type": "stream",
     "text": [
      "Epoch [5/30]: Train loss: 60.7598, Valid loss: 45.6561\n",
      "Saving model with loss 45.656...\n"
     ]
    },
    {
     "name": "stderr",
     "output_type": "stream",
     "text": [
      "Epoch [6/30]: 100%|██████████| 176/176 [00:13<00:00, 13.05it/s, loss=25.6]\n"
     ]
    },
    {
     "name": "stdout",
     "output_type": "stream",
     "text": [
      "Epoch [6/30]: Train loss: 35.2033, Valid loss: 25.6499\n",
      "Saving model with loss 25.650...\n"
     ]
    },
    {
     "name": "stderr",
     "output_type": "stream",
     "text": [
      "Epoch [7/30]: 100%|██████████| 176/176 [00:13<00:00, 13.08it/s, loss=14.1]\n"
     ]
    },
    {
     "name": "stdout",
     "output_type": "stream",
     "text": [
      "Epoch [7/30]: Train loss: 19.5838, Valid loss: 14.2943\n",
      "Saving model with loss 14.294...\n"
     ]
    },
    {
     "name": "stderr",
     "output_type": "stream",
     "text": [
      "Epoch [8/30]: 100%|██████████| 176/176 [00:13<00:00, 13.13it/s, loss=7.97]\n"
     ]
    },
    {
     "name": "stdout",
     "output_type": "stream",
     "text": [
      "Epoch [8/30]: Train loss: 11.2437, Valid loss: 8.1266\n",
      "Saving model with loss 8.127...\n"
     ]
    },
    {
     "name": "stderr",
     "output_type": "stream",
     "text": [
      "Epoch [9/30]: 100%|██████████| 176/176 [00:13<00:00, 13.07it/s, loss=5.09]\n"
     ]
    },
    {
     "name": "stdout",
     "output_type": "stream",
     "text": [
      "Epoch [9/30]: Train loss: 6.3767, Valid loss: 5.0001\n",
      "Saving model with loss 5.000...\n"
     ]
    },
    {
     "name": "stderr",
     "output_type": "stream",
     "text": [
      "Epoch [10/30]: 100%|██████████| 176/176 [00:13<00:00, 13.15it/s, loss=3.14]\n"
     ]
    },
    {
     "name": "stdout",
     "output_type": "stream",
     "text": [
      "Epoch [10/30]: Train loss: 3.8703, Valid loss: 3.1392\n",
      "Saving model with loss 3.139...\n"
     ]
    },
    {
     "name": "stderr",
     "output_type": "stream",
     "text": [
      "Epoch [11/30]: 100%|██████████| 176/176 [00:13<00:00, 13.04it/s, loss=2.59]\n"
     ]
    },
    {
     "name": "stdout",
     "output_type": "stream",
     "text": [
      "Epoch [11/30]: Train loss: 2.8193, Valid loss: 2.5850\n",
      "Saving model with loss 2.585...\n"
     ]
    },
    {
     "name": "stderr",
     "output_type": "stream",
     "text": [
      "Epoch [12/30]: 100%|██████████| 176/176 [00:13<00:00, 13.18it/s, loss=2.39]\n"
     ]
    },
    {
     "name": "stdout",
     "output_type": "stream",
     "text": [
      "Epoch [12/30]: Train loss: 2.4689, Valid loss: 2.3872\n",
      "Saving model with loss 2.387...\n"
     ]
    },
    {
     "name": "stderr",
     "output_type": "stream",
     "text": [
      "Epoch [13/30]: 100%|██████████| 176/176 [00:13<00:00, 13.18it/s, loss=2.33]\n"
     ]
    },
    {
     "name": "stdout",
     "output_type": "stream",
     "text": [
      "Epoch [13/30]: Train loss: 2.3500, Valid loss: 2.3249\n",
      "Saving model with loss 2.325...\n"
     ]
    },
    {
     "name": "stderr",
     "output_type": "stream",
     "text": [
      "Epoch [14/30]: 100%|██████████| 176/176 [00:13<00:00, 13.19it/s, loss=2.31]\n"
     ]
    },
    {
     "name": "stdout",
     "output_type": "stream",
     "text": [
      "Epoch [14/30]: Train loss: 2.3145, Valid loss: 2.3078\n",
      "Saving model with loss 2.308...\n"
     ]
    },
    {
     "name": "stderr",
     "output_type": "stream",
     "text": [
      "Epoch [15/30]: 100%|██████████| 176/176 [00:13<00:00, 13.28it/s, loss=2.3] \n"
     ]
    },
    {
     "name": "stdout",
     "output_type": "stream",
     "text": [
      "Epoch [15/30]: Train loss: 2.3053, Valid loss: 2.3038\n",
      "Saving model with loss 2.304...\n"
     ]
    },
    {
     "name": "stderr",
     "output_type": "stream",
     "text": [
      "Epoch [16/30]: 100%|██████████| 176/176 [00:13<00:00, 13.18it/s, loss=2.3]\n"
     ]
    },
    {
     "name": "stdout",
     "output_type": "stream",
     "text": [
      "Epoch [16/30]: Train loss: 2.3032, Valid loss: 2.3030\n",
      "Saving model with loss 2.303...\n"
     ]
    },
    {
     "name": "stderr",
     "output_type": "stream",
     "text": [
      "Epoch [17/30]: 100%|██████████| 176/176 [00:13<00:00, 13.18it/s, loss=2.3]\n"
     ]
    },
    {
     "name": "stdout",
     "output_type": "stream",
     "text": [
      "Epoch [17/30]: Train loss: 2.3028, Valid loss: 2.3028\n",
      "Saving model with loss 2.303...\n"
     ]
    },
    {
     "name": "stderr",
     "output_type": "stream",
     "text": [
      "Epoch [18/30]: 100%|██████████| 176/176 [00:13<00:00, 13.14it/s, loss=2.3]\n"
     ]
    },
    {
     "name": "stdout",
     "output_type": "stream",
     "text": [
      "Epoch [18/30]: Train loss: 2.3028, Valid loss: 2.3028\n",
      "Saving model with loss 2.303...\n"
     ]
    },
    {
     "name": "stderr",
     "output_type": "stream",
     "text": [
      "Epoch [19/30]: 100%|██████████| 176/176 [00:13<00:00, 13.18it/s, loss=2.3]\n"
     ]
    },
    {
     "name": "stdout",
     "output_type": "stream",
     "text": [
      "Epoch [19/30]: Train loss: 2.3028, Valid loss: 2.3027\n",
      "Saving model with loss 2.303...\n"
     ]
    },
    {
     "name": "stderr",
     "output_type": "stream",
     "text": [
      "Epoch [20/30]: 100%|██████████| 176/176 [00:13<00:00, 13.30it/s, loss=2.3]\n"
     ]
    },
    {
     "name": "stdout",
     "output_type": "stream",
     "text": [
      "Epoch [20/30]: Train loss: 2.3028, Valid loss: 2.3027\n"
     ]
    },
    {
     "name": "stderr",
     "output_type": "stream",
     "text": [
      "Epoch [21/30]: 100%|██████████| 176/176 [00:13<00:00, 13.28it/s, loss=2.3]\n"
     ]
    },
    {
     "name": "stdout",
     "output_type": "stream",
     "text": [
      "Epoch [21/30]: Train loss: 2.3028, Valid loss: 2.3028\n"
     ]
    },
    {
     "name": "stderr",
     "output_type": "stream",
     "text": [
      "Epoch [22/30]: 100%|██████████| 176/176 [00:13<00:00, 13.32it/s, loss=2.3]\n"
     ]
    },
    {
     "name": "stdout",
     "output_type": "stream",
     "text": [
      "Epoch [22/30]: Train loss: 2.3029, Valid loss: 2.3028\n"
     ]
    },
    {
     "name": "stderr",
     "output_type": "stream",
     "text": [
      "Epoch [23/30]: 100%|██████████| 176/176 [00:13<00:00, 13.04it/s, loss=2.3]\n"
     ]
    },
    {
     "name": "stdout",
     "output_type": "stream",
     "text": [
      "Epoch [23/30]: Train loss: 2.3029, Valid loss: 2.3028\n"
     ]
    },
    {
     "name": "stderr",
     "output_type": "stream",
     "text": [
      "Epoch [24/30]: 100%|██████████| 176/176 [00:20<00:00,  8.54it/s, loss=2.3]\n"
     ]
    },
    {
     "name": "stdout",
     "output_type": "stream",
     "text": [
      "Epoch [24/30]: Train loss: 2.3029, Valid loss: 2.3029\n"
     ]
    },
    {
     "name": "stderr",
     "output_type": "stream",
     "text": [
      "Epoch [25/30]: 100%|██████████| 176/176 [00:20<00:00,  8.44it/s, loss=2.3]\n"
     ]
    },
    {
     "name": "stdout",
     "output_type": "stream",
     "text": [
      "Epoch [25/30]: Train loss: 2.3029, Valid loss: 2.3029\n"
     ]
    },
    {
     "name": "stderr",
     "output_type": "stream",
     "text": [
      "Epoch [26/30]: 100%|██████████| 176/176 [00:20<00:00,  8.43it/s, loss=2.3]\n"
     ]
    },
    {
     "name": "stdout",
     "output_type": "stream",
     "text": [
      "Epoch [26/30]: Train loss: 2.3030, Valid loss: 2.3029\n"
     ]
    },
    {
     "name": "stderr",
     "output_type": "stream",
     "text": [
      "Epoch [27/30]: 100%|██████████| 176/176 [00:21<00:00,  8.38it/s, loss=2.3]\n"
     ]
    },
    {
     "name": "stdout",
     "output_type": "stream",
     "text": [
      "Epoch [27/30]: Train loss: 2.3030, Valid loss: 2.3030\n"
     ]
    },
    {
     "name": "stderr",
     "output_type": "stream",
     "text": [
      "Epoch [28/30]: 100%|██████████| 176/176 [00:16<00:00, 10.72it/s, loss=2.3]\n"
     ]
    },
    {
     "name": "stdout",
     "output_type": "stream",
     "text": [
      "Epoch [28/30]: Train loss: 2.3030, Valid loss: 2.3030\n"
     ]
    },
    {
     "name": "stderr",
     "output_type": "stream",
     "text": [
      "Epoch [29/30]: 100%|██████████| 176/176 [00:19<00:00,  8.84it/s, loss=2.3]\n"
     ]
    },
    {
     "name": "stdout",
     "output_type": "stream",
     "text": [
      "Epoch [29/30]: Train loss: 2.3031, Valid loss: 2.3031\n"
     ]
    },
    {
     "name": "stderr",
     "output_type": "stream",
     "text": [
      "Epoch [30/30]: 100%|██████████| 176/176 [00:14<00:00, 12.30it/s, loss=2.3]\n"
     ]
    },
    {
     "name": "stdout",
     "output_type": "stream",
     "text": [
      "Epoch [30/30]: Train loss: 2.3031, Valid loss: 2.3032\n"
     ]
    }
   ],
   "source": [
    "same_seed(config['seed'])\n",
    "\n",
    "model = Classifier().to(device)\n",
    "trainer(train_loader, valid_loader, test_loader, model, config, device)"
   ]
  },
  {
   "cell_type": "markdown",
   "metadata": {},
   "source": [
    "# Testing"
   ]
  },
  {
   "cell_type": "code",
   "execution_count": 11,
   "metadata": {},
   "outputs": [
    {
     "name": "stderr",
     "output_type": "stream",
     "text": [
      "100%|██████████| 40/40 [00:04<00:00,  9.60it/s]\n"
     ]
    }
   ],
   "source": [
    "model_best = Classifier().to(device)\n",
    "model_best.load_state_dict(torch.load(config['save_path']))\n",
    "preds_list, labels_list = predict(test_loader, model_best, device)  \n",
    "\n",
    "save_pred(preds_list, 'preds_list.csv')\n",
    "save_pred(labels_list, 'labels_list.csv')"
   ]
  },
  {
   "cell_type": "code",
   "execution_count": 15,
   "metadata": {},
   "outputs": [
    {
     "name": "stderr",
     "output_type": "stream",
     "text": [
      "Clipping input data to the valid range for imshow with RGB data ([0..1] for floats or [0..255] for integers).\n"
     ]
    },
    {
     "data": {
      "image/png": "[encoded data removed]",
      "text/plain": [
       "<Figure size 640x480 with 1 Axes>"
      ]
     },
     "metadata": {},
     "output_type": "display_data"
    },
    {
     "name": "stdout",
     "output_type": "stream",
     "text": [
      "label: 0, pred: 4\n"
     ]
    }
   ],
   "source": [
    "img, label = test_set[10]\n",
    "plt.imshow(img.permute(1,2,0))\n",
    "plt.show()\n",
    "print(f'label: {label}, pred: {preds_list[10]}')"
   ]
  },
  {
   "cell_type": "markdown",
   "metadata": {},
   "source": [
    "# Hook"
   ]
  },
  {
   "cell_type": "code",
   "execution_count": 13,
   "metadata": {},
   "outputs": [],
   "source": [
    "model_best = Classifier().to(device)\n",
    "model_best.load_state_dict(torch.load(config['save_path']))\n",
    "model_best.eval()\n",
    "\n",
    "record_conv0 = list()\n",
    "record_conv1 = list()\n",
    "record_conv2 = list()\n",
    "\n",
    "\n",
    "def hook_conv0(self, input, output):\n",
    "    record_conv0.append(output)\n",
    "\n",
    "def hook_conv1(self, input, output):\n",
    "    record_conv1.append(output)\n",
    "\n",
    "def hook_conv2(self, input, output):\n",
    "    record_conv2.append(output)\n",
    "\n",
    "\n",
    "model_best.cnn_layers[0].register_forward_hook(hook_conv0)\n",
    "model_best.cnn_layers[3].register_forward_hook(hook_conv1)\n",
    "model_best.cnn_layers[7].register_forward_hook(hook_conv2)\n",
    "\n",
    "\n",
    "test_Img = DataLoader(test_set, batch_size=1, shuffle=False, num_workers=0, pin_memory=True)\n",
    "\n",
    "\n",
    "with torch.no_grad():\n",
    "    for imgs, labels in test_Img:\n",
    "        test_pred = model_best(imgs.to(device))"
   ]
  },
  {
   "cell_type": "markdown",
   "metadata": {},
   "source": [
    "# Feature Map"
   ]
  },
  {
   "cell_type": "code",
   "execution_count": 17,
   "metadata": {},
   "outputs": [
    {
     "data": {
      "image/png": "[encoded data removed]",
      "text/plain": [
       "<Figure size 640x480 with 3 Axes>"
      ]
     },
     "metadata": {},
     "output_type": "display_data"
    }
   ],
   "source": [
    "conv0_out = record_conv0[1].squeeze(0)\n",
    "conv0_out = torch.mean(conv0_out, dim=0)\n",
    "conv0_out = conv0_out.cpu()\n",
    "\n",
    "conv1_out = record_conv1[1].squeeze(0)\n",
    "conv1_out = torch.mean(conv1_out, dim=0)\n",
    "conv1_out = conv1_out.cpu()\n",
    "\n",
    "conv2_out = record_conv2[1].squeeze(0)\n",
    "conv2_out = torch.mean(conv2_out, dim=0)\n",
    "conv2_out = conv2_out.cpu()\n",
    "\n",
    "plt.subplot(1,3,1)\n",
    "plt.imshow(conv0_out, cmap='gray')\n",
    "plt.subplot(1,3,2)\n",
    "plt.imshow(conv1_out, cmap='gray')\n",
    "plt.subplot(1,3,3)\n",
    "plt.imshow(conv2_out, cmap='gray')\n",
    "plt.show()"
   ]
  }
 ],
 "metadata": {
  "kernelspec": {
   "display_name": "Python 3.8.13 ('myenv')",
   "language": "python",
   "name": "python3"
  },
  "language_info": {
   "codemirror_mode": {
    "name": "ipython",
    "version": 3
   },
   "file_extension": ".py",
   "mimetype": "text/x-python",
   "name": "python",
   "nbconvert_exporter": "python",
   "pygments_lexer": "ipython3",
   "version": "3.9.13 (main, Aug 25 2022, 23:51:50) [MSC v.1916 64 bit (AMD64)]"
  },
  "orig_nbformat": 4,
  "vscode": {
   "interpreter": {
    "hash": "e270c5e18bddf8135f1d2565e84343e6ca74ebebad0bdbc2366dca4bb99432c3"
   }
  }
 },
 "nbformat": 4,
 "nbformat_minor": 2
}
